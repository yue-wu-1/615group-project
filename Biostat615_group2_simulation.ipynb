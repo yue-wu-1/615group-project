{
  "nbformat": 4,
  "nbformat_minor": 0,
  "metadata": {
    "colab": {
      "provenance": [],
      "authorship_tag": "ABX9TyM+t5LlFB8K4Bn3eoyS6cnI",
      "include_colab_link": true
    },
    "kernelspec": {
      "name": "ir",
      "display_name": "R"
    },
    "language_info": {
      "name": "R"
    }
  },
  "cells": [
    {
      "cell_type": "markdown",
      "metadata": {
        "id": "view-in-github",
        "colab_type": "text"
      },
      "source": [
        "<a href=\"https://colab.research.google.com/github/yue-wu-1/615group-project/blob/Qlocalstat/Biostat615_group2_simulation.ipynb\" target=\"_parent\"><img src=\"https://colab.research.google.com/assets/colab-badge.svg\" alt=\"Open In Colab\"/></a>"
      ]
    },
    {
      "cell_type": "markdown",
      "metadata": {
        "id": "DKrmiMevK9o4"
      },
      "source": [
        "# BIOSTAT615 Final Project simulation\n",
        "This page is intended to test the 'Qlocalstat' package our group2 created.\n",
        "Author: Yue Wu/ Jack Li/ Zhuoyu Wang"
      ]
    },
    {
      "cell_type": "markdown",
      "metadata": {
        "id": "2ApnjN6Hwx_A"
      },
      "source": [
        "## Preamble - Prepare simulation data and R package"
      ]
    },
    {
      "cell_type": "code",
      "source": [
        "## Download the simulation data\n",
        "system(\"gdown --id 1isIHjT8Wwq1YybW9M1aGo7PCnj2qwLS-\", intern=TRUE)\n",
        "system(\"gdown --id 14IOvot30vbr1GB8x5Sm3EUyvyBRGNTSZ\", intern=TRUE)\n",
        "system(\"gdown --id 1VPByhUbifuGxff3YjmMemPhi2HD74Wfi\", intern=TRUE)\n",
        "## Download the test package\n",
        "system(\"gdown --id 18R9JSsX_aZdMSHJA5c5Yi5FBWfePo41L\", intern=TRUE)\n",
        "## check if the file is successfully downloaded\n",
        "print(system(\"ls -l\", intern=TRUE))"
      ],
      "metadata": {
        "colab": {
          "base_uri": "https://localhost:8080/",
          "height": 124
        },
        "id": "F6PuxYbwT2GW",
        "outputId": "e50bf06a-97a7-41c2-cf64-0f8a6b94de5a"
      },
      "execution_count": 80,
      "outputs": [
        {
          "output_type": "display_data",
          "data": {
            "text/html": [],
            "text/markdown": "",
            "text/latex": "",
            "text/plain": [
              "character(0)"
            ]
          },
          "metadata": {}
        },
        {
          "output_type": "display_data",
          "data": {
            "text/html": [],
            "text/markdown": "",
            "text/latex": "",
            "text/plain": [
              "character(0)"
            ]
          },
          "metadata": {}
        },
        {
          "output_type": "display_data",
          "data": {
            "text/html": [],
            "text/markdown": "",
            "text/latex": "",
            "text/plain": [
              "character(0)"
            ]
          },
          "metadata": {}
        },
        {
          "output_type": "display_data",
          "data": {
            "text/html": [],
            "text/markdown": "",
            "text/latex": "",
            "text/plain": [
              "character(0)"
            ]
          },
          "metadata": {}
        },
        {
          "output_type": "stream",
          "name": "stdout",
          "text": [
            "[1] \"total 1236\"                                                      \n",
            "[2] \"-rw-r--r-- 1 root root 330155 Dec 14 22:11 19.RDS\"               \n",
            "[3] \"-rw-r--r-- 1 root root 485475 Dec 14 22:10 500.RDS\"              \n",
            "[4] \"-rw-r--r-- 1 root root 427977 Dec 14 22:10 620.RDS\"              \n",
            "[5] \"-rw-r--r-- 1 root root  10926 Dec 14 22:11 Qlocalstat_1.0.tar.gz\"\n",
            "[6] \"drwxr-xr-x 1 root root   4096 Dec 14 21:22 sample_data\"          \n"
          ]
        }
      ]
    },
    {
      "cell_type": "code",
      "execution_count": 81,
      "metadata": {
        "colab": {
          "base_uri": "https://localhost:8080/"
        },
        "outputId": "48cad21a-e324-4cd1-de80-06e4ebc7af45",
        "id": "lSUtb17hNeW8"
      },
      "outputs": [
        {
          "output_type": "stream",
          "name": "stderr",
          "text": [
            "Installing package into ‘/usr/local/lib/R/site-library’\n",
            "(as ‘lib’ is unspecified)\n",
            "\n"
          ]
        }
      ],
      "source": [
        "## Install the test package\n",
        "install.packages(\"Qlocalstat_1.0.tar.gz\",repos = NULL)\n",
        "library(Qlocalstat)"
      ]
    },
    {
      "cell_type": "markdown",
      "metadata": {
        "id": "HQo5iFWUZDBr"
      },
      "source": [
        "## Simulation1 - Trial 500: a \"best case\" situation:"
      ]
    },
    {
      "cell_type": "code",
      "source": [
        "trial500 <- readRDS(file = \"500.RDS\")\n",
        "attach(trial500)\n",
        "#EUR to EUR\n",
        "Qstat(center = \"index\", bx = summary_EUR_exp[proxies], by = summary_EUR_out[proxies],\n",
        "      se_bx = rep(0.05, length(proxies)), se_by = rep(0.05, length(proxies)), ldlocus_EUR,\n",
        "      weak_filter = TRUE, weak_thresh = 2,\n",
        "      SVD = FALSE, SVD_thresh = NA)\n",
        "\n",
        "#EUR to EAS\n",
        "Qstat(center = \"index\", bx = summary_EUR_exp[trial500$proxies], by = summary_EAS_out[proxies],\n",
        "      se_bx = rep(0.05, length(proxies)), se_by = rep(0.05, length(proxies)), ldlocus_EUR,\n",
        "      weak_filter = TRUE, weak_thresh = 2,\n",
        "      SVD = FALSE, SVD_thresh = NA)\n",
        "\n",
        "detach(trial500)"
      ],
      "metadata": {
        "colab": {
          "base_uri": "https://localhost:8080/",
          "height": 267
        },
        "id": "8yIvwkPuMNtf",
        "outputId": "2947604c-4791-44c4-f2fd-1771b68da4a4"
      },
      "execution_count": 82,
      "outputs": [
        {
          "output_type": "display_data",
          "data": {
            "text/html": [
              "<dl>\n",
              "\t<dt>$Qstat</dt>\n",
              "\t\t<dd>14.2636967550637</dd>\n",
              "\t<dt>$pval</dt>\n",
              "\t\t<dd>0.816878120063058</dd>\n",
              "\t<dt>$df</dt>\n",
              "\t\t<dd>20</dd>\n",
              "</dl>\n"
            ],
            "text/markdown": "$Qstat\n:   14.2636967550637\n$pval\n:   0.816878120063058\n$df\n:   20\n\n\n",
            "text/latex": "\\begin{description}\n\\item[\\$Qstat] 14.2636967550637\n\\item[\\$pval] 0.816878120063058\n\\item[\\$df] 20\n\\end{description}\n",
            "text/plain": [
              "$Qstat\n",
              "[1] 14.2637\n",
              "\n",
              "$pval\n",
              "[1] 0.8168781\n",
              "\n",
              "$df\n",
              "[1] 20\n"
            ]
          },
          "metadata": {}
        },
        {
          "output_type": "display_data",
          "data": {
            "text/html": [
              "<dl>\n",
              "\t<dt>$Qstat</dt>\n",
              "\t\t<dd>69.5466189022389</dd>\n",
              "\t<dt>$pval</dt>\n",
              "\t\t<dd>2.15945642667548e-07</dd>\n",
              "\t<dt>$df</dt>\n",
              "\t\t<dd>20</dd>\n",
              "</dl>\n"
            ],
            "text/markdown": "$Qstat\n:   69.5466189022389\n$pval\n:   2.15945642667548e-07\n$df\n:   20\n\n\n",
            "text/latex": "\\begin{description}\n\\item[\\$Qstat] 69.5466189022389\n\\item[\\$pval] 2.15945642667548e-07\n\\item[\\$df] 20\n\\end{description}\n",
            "text/plain": [
              "$Qstat\n",
              "[1] 69.54662\n",
              "\n",
              "$pval\n",
              "[1] 2.159456e-07\n",
              "\n",
              "$df\n",
              "[1] 20\n"
            ]
          },
          "metadata": {}
        }
      ]
    },
    {
      "cell_type": "markdown",
      "source": [
        "Note that even without any regularization, these statistics run without issue and work pretty well.\n",
        "As expected, EUR -> EAS is much more heterogeneous than EUR -> EUR."
      ],
      "metadata": {
        "id": "2nbUYWO1ZdWi"
      }
    },
    {
      "cell_type": "markdown",
      "metadata": {
        "id": "mvaHliuGZN53"
      },
      "source": [
        "## Simulation2 - Trial 19: a situation with robust inverse issues that the eigenvalue-based pseudoinverse resolves\n"
      ]
    },
    {
      "cell_type": "code",
      "source": [
        "trial19 <- readRDS(file = \"19.RDS\")\n",
        "attach(trial19)\n",
        "\n",
        "#EUR to EUR\n",
        "Qstat(center = \"index\", bx = summary_EUR_exp[trial19$proxies], by = summary_EUR_out[trial19$proxies],\n",
        "      se_bx = rep(0.05, length(trial19$proxies)), se_by = rep(0.05, length(trial19$proxies)), ldlocus_EUR,\n",
        "      weak_filter = TRUE, weak_thresh = 2,\n",
        "      SVD = FALSE, SVD_thresh = NA)\n",
        "\n",
        "#EUR to EAS\n",
        "Qstat(center = \"index\", bx = summary_EUR_exp[trial19$proxies], by = summary_EAS_out[trial19$proxies],\n",
        "      se_bx = rep(0.05, length(trial19$proxies)), se_by = rep(0.05, length(trial19$proxies)), ldlocus_EUR,\n",
        "      weak_filter = TRUE, weak_thresh = 2,\n",
        "      SVD = FALSE, SVD_thresh = NA)\n",
        "\n",
        "#While the EUR -> EUR result is still OK, the EUR -> EAS result is extremely unstable and leads to an absurd result - let's try applying the eigenvalue-based pseudoinverse.\n",
        "\n",
        "Qstat(center = \"index\", bx = summary_EUR_exp[trial19$proxies], by = summary_EAS_out[trial19$proxies],\n",
        "      se_bx = rep(0.05, length(trial19$proxies)), se_by = rep(0.05, length(trial19$proxies)), ldlocus_EUR,\n",
        "      weak_filter = TRUE, weak_thresh = 2,\n",
        "      SVD = TRUE, SVD_thresh = \"eigen\")\n",
        "\n",
        "detach(trial19)"
      ],
      "metadata": {
        "colab": {
          "base_uri": "https://localhost:8080/",
          "height": 435
        },
        "id": "KJZXCyEhM_nV",
        "outputId": "cde2fe09-dfda-4beb-a53a-3ad7a9dba60a"
      },
      "execution_count": 83,
      "outputs": [
        {
          "output_type": "display_data",
          "data": {
            "text/html": [
              "<dl>\n",
              "\t<dt>$Qstat</dt>\n",
              "\t\t<dd>5.28062332717954</dd>\n",
              "\t<dt>$pval</dt>\n",
              "\t\t<dd>0.809191650489755</dd>\n",
              "\t<dt>$df</dt>\n",
              "\t\t<dd>9</dd>\n",
              "</dl>\n"
            ],
            "text/markdown": "$Qstat\n:   5.28062332717954\n$pval\n:   0.809191650489755\n$df\n:   9\n\n\n",
            "text/latex": "\\begin{description}\n\\item[\\$Qstat] 5.28062332717954\n\\item[\\$pval] 0.809191650489755\n\\item[\\$df] 9\n\\end{description}\n",
            "text/plain": [
              "$Qstat\n",
              "[1] 5.280623\n",
              "\n",
              "$pval\n",
              "[1] 0.8091917\n",
              "\n",
              "$df\n",
              "[1] 9\n"
            ]
          },
          "metadata": {}
        },
        {
          "output_type": "stream",
          "name": "stderr",
          "text": [
            "Warning message in Qstat(center = \"index\", bx = summary_EUR_exp[trial19$proxies], :\n",
            "“Q-statistic is less than zero, consider using the pseudoinverse!”\n"
          ]
        },
        {
          "output_type": "display_data",
          "data": {
            "text/html": [
              "<dl>\n",
              "\t<dt>$Qstat</dt>\n",
              "\t\t<dd>-2795771.80774991</dd>\n",
              "\t<dt>$pval</dt>\n",
              "\t\t<dd>1</dd>\n",
              "\t<dt>$df</dt>\n",
              "\t\t<dd>9</dd>\n",
              "</dl>\n"
            ],
            "text/markdown": "$Qstat\n:   -2795771.80774991\n$pval\n:   1\n$df\n:   9\n\n\n",
            "text/latex": "\\begin{description}\n\\item[\\$Qstat] -2795771.80774991\n\\item[\\$pval] 1\n\\item[\\$df] 9\n\\end{description}\n",
            "text/plain": [
              "$Qstat\n",
              "[1] -2795772\n",
              "\n",
              "$pval\n",
              "[1] 1\n",
              "\n",
              "$df\n",
              "[1] 9\n"
            ]
          },
          "metadata": {}
        },
        {
          "output_type": "display_data",
          "data": {
            "text/html": [
              "<dl>\n",
              "\t<dt>$Qstat</dt>\n",
              "\t\t<dd>284.493416289038</dd>\n",
              "\t<dt>$pval</dt>\n",
              "\t\t<dd>5.05574129927192e-56</dd>\n",
              "\t<dt>$df</dt>\n",
              "\t\t<dd>9</dd>\n",
              "</dl>\n"
            ],
            "text/markdown": "$Qstat\n:   284.493416289038\n$pval\n:   5.05574129927192e-56\n$df\n:   9\n\n\n",
            "text/latex": "\\begin{description}\n\\item[\\$Qstat] 284.493416289038\n\\item[\\$pval] 5.05574129927192e-56\n\\item[\\$df] 9\n\\end{description}\n",
            "text/plain": [
              "$Qstat\n",
              "[1] 284.4934\n",
              "\n",
              "$pval\n",
              "[1] 5.055741e-56\n",
              "\n",
              "$df\n",
              "[1] 9\n"
            ]
          },
          "metadata": {}
        }
      ]
    },
    {
      "cell_type": "markdown",
      "source": [
        "The result is improved - and we once again see that EUR -> EAS shows much more heterogeneity than its EUR -> EUR counterpart.\n"
      ],
      "metadata": {
        "id": "ZAdIJGl_ZtAY"
      }
    },
    {
      "cell_type": "markdown",
      "metadata": {
        "id": "irV8Oe_gZQHm"
      },
      "source": [
        "## Simulation3 - Trial 620: a situation where the eigenvalue-based pseudoinverse fails to resolve, but a threshold-based pseudoinverse fixes the problem"
      ]
    },
    {
      "cell_type": "code",
      "source": [
        "trial620 <- readRDS(file = \"620.RDS\")\n",
        "attach(trial620)\n",
        "\n",
        "#EUR to EUR\n",
        "Qstat(center = \"index\", bx = summary_EUR_exp[proxies], by = summary_EUR_out[proxies],\n",
        "      se_bx = rep(0.05, length(proxies)), se_by = rep(0.05, length(proxies)), ldlocus_EUR,\n",
        "      weak_filter = TRUE, weak_thresh = 2,\n",
        "      SVD = FALSE, SVD_thresh = NA)\n",
        "\n",
        "#EUR to EAS\n",
        "Qstat(center = \"index\", bx = summary_EUR_exp[proxies], by = summary_EAS_out[proxies],\n",
        "      se_bx = rep(0.05, length(proxies)), se_by = rep(0.05, length(proxies)), ldlocus_EUR,\n",
        "      weak_filter = TRUE, weak_thresh = 2,\n",
        "      SVD = FALSE, SVD_thresh = NA)\n",
        "\n",
        "#Once again, the EUR -> EAS result is extremely incorrect - let's try using the eigenvalue-based pseudoinverse.\n",
        "Qstat(center = \"index\", bx = summary_EUR_exp[proxies], by = summary_EAS_out[proxies],\n",
        "      se_bx = rep(0.05, length(proxies)), se_by = rep(0.05, length(proxies)), ldlocus_EUR,\n",
        "      weak_filter = TRUE, weak_thresh = 2,\n",
        "      SVD = TRUE, SVD_thresh = \"eigen\")\n",
        "\n",
        "#Oh, that didn't fix anything. What about a threshold-based pseudoinverse?\n",
        "\n",
        "Qstat(center = \"index\", bx = summary_EUR_exp[proxies], by = summary_EAS_out[proxies],\n",
        "      se_bx = rep(0.05, length(proxies)), se_by = rep(0.05, length(proxies)), ldlocus_EUR,\n",
        "      weak_filter = TRUE, weak_thresh = 2,\n",
        "      SVD = TRUE, SVD_thresh = 1e-4)\n",
        "detach(trial620)"
      ],
      "metadata": {
        "colab": {
          "base_uri": "https://localhost:8080/",
          "height": 553
        },
        "outputId": "dd2f0f40-cc2f-4cf4-8e80-e245fd4a7a70",
        "id": "dHMrmnriSvwR"
      },
      "execution_count": 84,
      "outputs": [
        {
          "output_type": "display_data",
          "data": {
            "text/html": [
              "<dl>\n",
              "\t<dt>$Qstat</dt>\n",
              "\t\t<dd>4.23069508679285</dd>\n",
              "\t<dt>$pval</dt>\n",
              "\t\t<dd>0.516702005872316</dd>\n",
              "\t<dt>$df</dt>\n",
              "\t\t<dd>5</dd>\n",
              "</dl>\n"
            ],
            "text/markdown": "$Qstat\n:   4.23069508679285\n$pval\n:   0.516702005872316\n$df\n:   5\n\n\n",
            "text/latex": "\\begin{description}\n\\item[\\$Qstat] 4.23069508679285\n\\item[\\$pval] 0.516702005872316\n\\item[\\$df] 5\n\\end{description}\n",
            "text/plain": [
              "$Qstat\n",
              "[1] 4.230695\n",
              "\n",
              "$pval\n",
              "[1] 0.516702\n",
              "\n",
              "$df\n",
              "[1] 5\n"
            ]
          },
          "metadata": {}
        },
        {
          "output_type": "stream",
          "name": "stderr",
          "text": [
            "Warning message in Qstat(center = \"index\", bx = summary_EUR_exp[proxies], by = summary_EAS_out[proxies], :\n",
            "“Q-statistic is less than zero, consider using the pseudoinverse!”\n"
          ]
        },
        {
          "output_type": "display_data",
          "data": {
            "text/html": [
              "<dl>\n",
              "\t<dt>$Qstat</dt>\n",
              "\t\t<dd>-140318.403950704</dd>\n",
              "\t<dt>$pval</dt>\n",
              "\t\t<dd>1</dd>\n",
              "\t<dt>$df</dt>\n",
              "\t\t<dd>5</dd>\n",
              "</dl>\n"
            ],
            "text/markdown": "$Qstat\n:   -140318.403950704\n$pval\n:   1\n$df\n:   5\n\n\n",
            "text/latex": "\\begin{description}\n\\item[\\$Qstat] -140318.403950704\n\\item[\\$pval] 1\n\\item[\\$df] 5\n\\end{description}\n",
            "text/plain": [
              "$Qstat\n",
              "[1] -140318.4\n",
              "\n",
              "$pval\n",
              "[1] 1\n",
              "\n",
              "$df\n",
              "[1] 5\n"
            ]
          },
          "metadata": {}
        },
        {
          "output_type": "display_data",
          "data": {
            "text/html": [
              "<dl>\n",
              "\t<dt>$Qstat</dt>\n",
              "\t\t<dd>-140318.403875164</dd>\n",
              "\t<dt>$pval</dt>\n",
              "\t\t<dd>1</dd>\n",
              "\t<dt>$df</dt>\n",
              "\t\t<dd>5</dd>\n",
              "</dl>\n"
            ],
            "text/markdown": "$Qstat\n:   -140318.403875164\n$pval\n:   1\n$df\n:   5\n\n\n",
            "text/latex": "\\begin{description}\n\\item[\\$Qstat] -140318.403875164\n\\item[\\$pval] 1\n\\item[\\$df] 5\n\\end{description}\n",
            "text/plain": [
              "$Qstat\n",
              "[1] -140318.4\n",
              "\n",
              "$pval\n",
              "[1] 1\n",
              "\n",
              "$df\n",
              "[1] 5\n"
            ]
          },
          "metadata": {}
        },
        {
          "output_type": "display_data",
          "data": {
            "text/html": [
              "<dl>\n",
              "\t<dt>$Qstat</dt>\n",
              "\t\t<dd>1.59117463988295</dd>\n",
              "\t<dt>$pval</dt>\n",
              "\t\t<dd>0.902314527361624</dd>\n",
              "\t<dt>$df</dt>\n",
              "\t\t<dd>5</dd>\n",
              "</dl>\n"
            ],
            "text/markdown": "$Qstat\n:   1.59117463988295\n$pval\n:   0.902314527361624\n$df\n:   5\n\n\n",
            "text/latex": "\\begin{description}\n\\item[\\$Qstat] 1.59117463988295\n\\item[\\$pval] 0.902314527361624\n\\item[\\$df] 5\n\\end{description}\n",
            "text/plain": [
              "$Qstat\n",
              "[1] 1.591175\n",
              "\n",
              "$pval\n",
              "[1] 0.9023145\n",
              "\n",
              "$df\n",
              "[1] 5\n"
            ]
          },
          "metadata": {}
        }
      ]
    },
    {
      "cell_type": "markdown",
      "source": [
        "Now we see the results are stable once again - interestingly, we see that results from EUR -> EAS do not necessarily have to be more heterogeneous than EUR -> EUR:\n",
        "the amount of mismatch is certainly dependent on the location within the genome."
      ],
      "metadata": {
        "id": "B0mDV1qdaNk-"
      }
    },
    {
      "cell_type": "markdown",
      "metadata": {
        "id": "9Nb6XoGEaL4k"
      },
      "source": [
        "## Summary"
      ]
    },
    {
      "cell_type": "markdown",
      "source": [
        "\n",
        "\n",
        "In summary, a robust inverse is often necessary for proper calculation of the score statistic. Importantly, there is no \"one-size fits all\" option for this robust inverse: in practice, we find that while the eigenvalue-based pseudoinverse works as a general initial choice for most situations where the result is unstable, occasionally manual tweaking is necessary to get a good result."
      ],
      "metadata": {
        "id": "3pXlitDPZ_A6"
      }
    }
  ]
}