{
  "nbformat": 4,
  "nbformat_minor": 0,
  "metadata": {
    "colab": {
      "provenance": [],
      "include_colab_link": true
    },
    "kernelspec": {
      "name": "ir",
      "display_name": "R"
    },
    "language_info": {
      "name": "R"
    }
  },
  "cells": [
    {
      "cell_type": "markdown",
      "metadata": {
        "id": "view-in-github",
        "colab_type": "text"
      },
      "source": [
        "<a href=\"https://colab.research.google.com/github/yue-wu-1/615group-project/blob/main/Biostat615_group2_simulation.ipynb\" target=\"_parent\"><img src=\"https://colab.research.google.com/assets/colab-badge.svg\" alt=\"Open In Colab\"/></a>"
      ]
    },
    {
      "cell_type": "markdown",
      "metadata": {
        "id": "DKrmiMevK9o4"
      },
      "source": [
        "# BIOSTAT615 Final Project Simulation Results: Three Trials\n",
        "This notebook demonstrates how to use the functions within our \"Qlocalstat\" package on three specific trials from our simulation design - demonstrating the (often drastic) effect of instability and different ways that it needs to be cleaned up.\n",
        "Author: Yue Wu/Jack Li/Zhuoyu Wang"
      ]
    },
    {
      "cell_type": "markdown",
      "metadata": {
        "id": "2ApnjN6Hwx_A"
      },
      "source": [
        "## Preamble - Prepare simulation data and R package"
      ]
    },
    {
      "cell_type": "code",
      "source": [
        "## Download the simulation data\n",
        "system(\"gdown --id 1isIHjT8Wwq1YybW9M1aGo7PCnj2qwLS-\", intern=TRUE)\n",
        "system(\"gdown --id 14IOvot30vbr1GB8x5Sm3EUyvyBRGNTSZ\", intern=TRUE)\n",
        "system(\"gdown --id 1VPByhUbifuGxff3YjmMemPhi2HD74Wfi\", intern=TRUE)\n",
        "## Download the test package\n",
        "system(\"gdown --id 18R9JSsX_aZdMSHJA5c5Yi5FBWfePo41L\", intern=TRUE)\n",
        "## check if the file is successfully downloaded\n",
        "print(system(\"ls -l\", intern=TRUE))"
      ],
      "metadata": {
        "colab": {
          "base_uri": "https://localhost:8080/",
          "height": 124
        },
        "id": "F6PuxYbwT2GW",
        "outputId": "90cdc3e0-85c1-4e5e-d7c6-76f9a0d8d1aa"
      },
      "execution_count": 2,
      "outputs": [
        {
          "output_type": "display_data",
          "data": {
            "text/html": [],
            "text/markdown": "",
            "text/latex": "",
            "text/plain": [
              "character(0)"
            ]
          },
          "metadata": {}
        },
        {
          "output_type": "display_data",
          "data": {
            "text/html": [],
            "text/markdown": "",
            "text/latex": "",
            "text/plain": [
              "character(0)"
            ]
          },
          "metadata": {}
        },
        {
          "output_type": "display_data",
          "data": {
            "text/html": [],
            "text/markdown": "",
            "text/latex": "",
            "text/plain": [
              "character(0)"
            ]
          },
          "metadata": {}
        },
        {
          "output_type": "display_data",
          "data": {
            "text/html": [],
            "text/markdown": "",
            "text/latex": "",
            "text/plain": [
              "character(0)"
            ]
          },
          "metadata": {}
        },
        {
          "output_type": "stream",
          "name": "stdout",
          "text": [
            "[1] \"total 1240\"                                                      \n",
            "[2] \"-rw-r--r-- 1 root root 330155 Dec 15 06:24 19.RDS\"               \n",
            "[3] \"-rw-r--r-- 1 root root 485475 Dec 15 06:24 500.RDS\"              \n",
            "[4] \"-rw-r--r-- 1 root root 427977 Dec 15 06:24 620.RDS\"              \n",
            "[5] \"-rw-r--r-- 1 root root  14665 Dec 15 06:24 Qlocalstat_1.0.tar.gz\"\n",
            "[6] \"drwxr-xr-x 1 root root   4096 Dec 13 14:22 sample_data\"          \n"
          ]
        }
      ]
    },
    {
      "cell_type": "markdown",
      "source": [
        "Each of these trials (19.RDS), (500.RDS), (620.RDS) is a list that includes the following components:\n",
        "1.   A 200x200 LD matrix of all variants included within the locus, EUR superpopulation `(ld200_EUR)`\n",
        "2.   A 200x200 LD matrix of all variants included within the locus, EAS superpopulation `(ld200_EAS)`\n",
        "3.   The summary statistics for all 200 variants in the locus, EUR exposure `(summary_EUR_exp)`\n",
        "4. The summary statistics for all 200 variants in the locus, EUR outcome `(summary_EUR_out)`\n",
        "5. The summary statistics for all 200 variants in the locus, EAS outcome `(summary_EAS_out)`\n",
        "6. The position of the causal variant `(causal_var)`\n",
        "7. The position of the index variant in the summary statistics `(index_var)`\n",
        "8. The position of the \"proxies\" to the index variant (variants within LD $R^2$ of 0.64) `(proxies)`\n",
        "9. The LD matrix of the \"locus\" in the EUR superpopulation (that is, the matrix of the index variant and its proxies) `(ldlocus_EUR)`\n",
        "10. The LD matrix of the \"locus\" in the EAS superpopulation (that is, the matrix of the index variant and its proxies) `(ldlocus_EAS)`\n",
        "11. A trial run of the score statistic between EUR -> EUR that uses the mean Wald ratio as the estimate for $\\gamma$, with no measures taken for robust pseudoinverse `(EUR_EUR_Q)`\n",
        "12. A trial run of the score statistic between EUR -> EAS that uses the mean Wald ratio as the estimate for $\\gamma$, with no measures taken for robust pseudoinverse `(EUR_EAS_Q)`\n",
        "\n",
        "Each trial's summary statistics were generated with a constant standard error of 0.05 for both the exposure and outcome (which is reflected in the demonstration) - in reality, this standard error should vary between the variants!\n"
      ],
      "metadata": {
        "id": "lGUqSXQCjm7I"
      }
    },
    {
      "cell_type": "code",
      "execution_count": 1,
      "metadata": {
        "colab": {
          "base_uri": "https://localhost:8080/",
          "height": 235
        },
        "outputId": "f82ec24d-0a67-46c5-c1a7-6dd04b662c47",
        "id": "lSUtb17hNeW8"
      },
      "outputs": [
        {
          "output_type": "stream",
          "name": "stderr",
          "text": [
            "Installing package into ‘/usr/local/lib/R/site-library’\n",
            "(as ‘lib’ is unspecified)\n",
            "\n",
            "Warning message in install.packages(\"Qlocalstat_1.0.tar.gz\", repos = NULL):\n",
            "“installation of package ‘Qlocalstat_1.0.tar.gz’ had non-zero exit status”\n"
          ]
        },
        {
          "output_type": "error",
          "ename": "ERROR",
          "evalue": "ignored",
          "traceback": [
            "Error in library(Qlocalstat): there is no package called ‘Qlocalstat’\nTraceback:\n",
            "1. library(Qlocalstat)"
          ]
        }
      ],
      "source": [
        "## Install the test package\n",
        "install.packages(\"Qlocalstat_1.0.tar.gz\",repos = NULL)\n",
        "library(Qlocalstat)"
      ]
    },
    {
      "cell_type": "markdown",
      "metadata": {
        "id": "HQo5iFWUZDBr"
      },
      "source": [
        "## Simulation 1 - Trial 500: a \"best case\" situation:"
      ]
    },
    {
      "cell_type": "markdown",
      "source": [
        "Load simulation data 500.RDS"
      ],
      "metadata": {
        "id": "4vL3Ha3Ur6vP"
      }
    },
    {
      "cell_type": "code",
      "source": [
        "trial500 <- readRDS(file = \"500.RDS\")\n",
        "attach(trial500)"
      ],
      "metadata": {
        "id": "3n3OZB7Zr1Bj"
      },
      "execution_count": null,
      "outputs": []
    },
    {
      "cell_type": "markdown",
      "source": [
        "Perform Qstat function between European and East Asian dataset"
      ],
      "metadata": {
        "id": "cXxxj8p0sB3c"
      }
    },
    {
      "cell_type": "code",
      "source": [
        "#EUR to EUR\n",
        "Qstat(center = \"index\", bx = summary_EUR_exp[proxies], by = summary_EUR_out[proxies],\n",
        "      se_bx = rep(0.05, length(proxies)), se_by = rep(0.05, length(proxies)), ldlocus_EUR,\n",
        "      weak_filter = TRUE, weak_thresh = 2,\n",
        "      SVD = FALSE, SVD_thresh = NA)"
      ],
      "metadata": {
        "colab": {
          "base_uri": "https://localhost:8080/",
          "height": 149
        },
        "id": "HLEtWD1trsbf",
        "outputId": "2a5ffd7c-0a12-473b-99ef-f4da2eb6e3bf"
      },
      "execution_count": null,
      "outputs": [
        {
          "output_type": "display_data",
          "data": {
            "text/html": [
              "<dl>\n",
              "\t<dt>$Qstat</dt>\n",
              "\t\t<dd>14.2636967550637</dd>\n",
              "\t<dt>$pval</dt>\n",
              "\t\t<dd>0.816878120063058</dd>\n",
              "\t<dt>$df</dt>\n",
              "\t\t<dd>20</dd>\n",
              "</dl>\n"
            ],
            "text/markdown": "$Qstat\n:   14.2636967550637\n$pval\n:   0.816878120063058\n$df\n:   20\n\n\n",
            "text/latex": "\\begin{description}\n\\item[\\$Qstat] 14.2636967550637\n\\item[\\$pval] 0.816878120063058\n\\item[\\$df] 20\n\\end{description}\n",
            "text/plain": [
              "$Qstat\n",
              "[1] 14.2637\n",
              "\n",
              "$pval\n",
              "[1] 0.8168781\n",
              "\n",
              "$df\n",
              "[1] 20\n"
            ]
          },
          "metadata": {}
        }
      ]
    },
    {
      "cell_type": "markdown",
      "source": [
        "Perform Qstat function between European and East Asian summary statistics"
      ],
      "metadata": {
        "id": "u4bWAE2Nsf6T"
      }
    },
    {
      "cell_type": "code",
      "source": [
        "#EUR to EAS\n",
        "Qstat(center = \"index\", bx = summary_EUR_exp[trial500$proxies], by = summary_EAS_out[proxies],\n",
        "      se_bx = rep(0.05, length(proxies)), se_by = rep(0.05, length(proxies)), ldlocus_EUR,\n",
        "      weak_filter = TRUE, weak_thresh = 2,\n",
        "      SVD = FALSE, SVD_thresh = NA)\n",
        "\n",
        "detach(trial500)"
      ],
      "metadata": {
        "colab": {
          "base_uri": "https://localhost:8080/",
          "height": 149
        },
        "id": "8yIvwkPuMNtf",
        "outputId": "5dbfcdba-06cd-4e4a-a458-432b221026df"
      },
      "execution_count": null,
      "outputs": [
        {
          "output_type": "display_data",
          "data": {
            "text/html": [
              "<dl>\n",
              "\t<dt>$Qstat</dt>\n",
              "\t\t<dd>69.5466189022389</dd>\n",
              "\t<dt>$pval</dt>\n",
              "\t\t<dd>2.15945642667548e-07</dd>\n",
              "\t<dt>$df</dt>\n",
              "\t\t<dd>20</dd>\n",
              "</dl>\n"
            ],
            "text/markdown": "$Qstat\n:   69.5466189022389\n$pval\n:   2.15945642667548e-07\n$df\n:   20\n\n\n",
            "text/latex": "\\begin{description}\n\\item[\\$Qstat] 69.5466189022389\n\\item[\\$pval] 2.15945642667548e-07\n\\item[\\$df] 20\n\\end{description}\n",
            "text/plain": [
              "$Qstat\n",
              "[1] 69.54662\n",
              "\n",
              "$pval\n",
              "[1] 2.159456e-07\n",
              "\n",
              "$df\n",
              "[1] 20\n"
            ]
          },
          "metadata": {}
        }
      ]
    },
    {
      "cell_type": "markdown",
      "source": [
        "*Note that even without any regularization, these statistics run without issue and work pretty well. As expected, EUR -> EAS is much more heterogeneous than EUR -> EUR."
      ],
      "metadata": {
        "id": "2nbUYWO1ZdWi"
      }
    },
    {
      "cell_type": "markdown",
      "metadata": {
        "id": "mvaHliuGZN53"
      },
      "source": [
        "## Simulation 2 - Trial 19: a situation with robust inverse issues that the eigenvalue-based pseudoinverse resolves\n"
      ]
    },
    {
      "cell_type": "markdown",
      "source": [
        "Load simulation data 19.RDS"
      ],
      "metadata": {
        "id": "e3UBTMeVs7K4"
      }
    },
    {
      "cell_type": "code",
      "source": [
        "trial19 <- readRDS(file = \"19.RDS\")\n",
        "attach(trial19)"
      ],
      "metadata": {
        "id": "fEWBPoYOs3-q"
      },
      "execution_count": null,
      "outputs": []
    },
    {
      "cell_type": "markdown",
      "source": [
        "Perform Qstat function between European and European dataset"
      ],
      "metadata": {
        "id": "qU7r9Pwhs-3x"
      }
    },
    {
      "cell_type": "code",
      "source": [
        "#EUR to EUR\n",
        "Qstat(center = \"index\", bx = summary_EUR_exp[trial19$proxies], by = summary_EUR_out[trial19$proxies],\n",
        "      se_bx = rep(0.05, length(trial19$proxies)), se_by = rep(0.05, length(trial19$proxies)), ldlocus_EUR,\n",
        "      weak_filter = TRUE, weak_thresh = 2,\n",
        "      SVD = FALSE, SVD_thresh = NA)"
      ],
      "metadata": {
        "colab": {
          "base_uri": "https://localhost:8080/",
          "height": 149
        },
        "id": "Kk8BvGUQs3xi",
        "outputId": "420bbde4-e0d6-444c-9a72-c02de6677a31"
      },
      "execution_count": null,
      "outputs": [
        {
          "output_type": "display_data",
          "data": {
            "text/html": [
              "<dl>\n",
              "\t<dt>$Qstat</dt>\n",
              "\t\t<dd>5.28062332717954</dd>\n",
              "\t<dt>$pval</dt>\n",
              "\t\t<dd>0.809191650489755</dd>\n",
              "\t<dt>$df</dt>\n",
              "\t\t<dd>9</dd>\n",
              "</dl>\n"
            ],
            "text/markdown": "$Qstat\n:   5.28062332717954\n$pval\n:   0.809191650489755\n$df\n:   9\n\n\n",
            "text/latex": "\\begin{description}\n\\item[\\$Qstat] 5.28062332717954\n\\item[\\$pval] 0.809191650489755\n\\item[\\$df] 9\n\\end{description}\n",
            "text/plain": [
              "$Qstat\n",
              "[1] 5.280623\n",
              "\n",
              "$pval\n",
              "[1] 0.8091917\n",
              "\n",
              "$df\n",
              "[1] 9\n"
            ]
          },
          "metadata": {}
        }
      ]
    },
    {
      "cell_type": "markdown",
      "source": [
        "Perform Qstat function between European and East Asian dataset\n"
      ],
      "metadata": {
        "id": "JBBWFWMYtIac"
      }
    },
    {
      "cell_type": "code",
      "source": [
        "#EUR to EAS\n",
        "Qstat(center = \"index\", bx = summary_EUR_exp[trial19$proxies], by = summary_EAS_out[trial19$proxies],\n",
        "      se_bx = rep(0.05, length(trial19$proxies)), se_by = rep(0.05, length(trial19$proxies)), ldlocus_EUR,\n",
        "      weak_filter = TRUE, weak_thresh = 2,\n",
        "      SVD = FALSE, SVD_thresh = NA)"
      ],
      "metadata": {
        "colab": {
          "base_uri": "https://localhost:8080/",
          "height": 185
        },
        "id": "ny5z7RHhtG-3",
        "outputId": "7411401a-71ba-4099-9837-e04801c55ce2"
      },
      "execution_count": null,
      "outputs": [
        {
          "output_type": "stream",
          "name": "stderr",
          "text": [
            "Warning message in Qstat(center = \"index\", bx = summary_EUR_exp[trial19$proxies], :\n",
            "“Q-statistic is less than zero, consider using the pseudoinverse!”\n"
          ]
        },
        {
          "output_type": "display_data",
          "data": {
            "text/html": [
              "<dl>\n",
              "\t<dt>$Qstat</dt>\n",
              "\t\t<dd>-2795771.80774991</dd>\n",
              "\t<dt>$pval</dt>\n",
              "\t\t<dd>1</dd>\n",
              "\t<dt>$df</dt>\n",
              "\t\t<dd>9</dd>\n",
              "</dl>\n"
            ],
            "text/markdown": "$Qstat\n:   -2795771.80774991\n$pval\n:   1\n$df\n:   9\n\n\n",
            "text/latex": "\\begin{description}\n\\item[\\$Qstat] -2795771.80774991\n\\item[\\$pval] 1\n\\item[\\$df] 9\n\\end{description}\n",
            "text/plain": [
              "$Qstat\n",
              "[1] -2795772\n",
              "\n",
              "$pval\n",
              "[1] 1\n",
              "\n",
              "$df\n",
              "[1] 9\n"
            ]
          },
          "metadata": {}
        }
      ]
    },
    {
      "cell_type": "markdown",
      "source": [
        "*While the EUR -> EUR result is still OK, the EUR -> EAS result is extremely unstable and leads to an absurd result - let's try applying the eigenvalue-based pseudoinverse.\n"
      ],
      "metadata": {
        "id": "N9zZVr8vtOg3"
      }
    },
    {
      "cell_type": "code",
      "source": [
        "Qstat(center = \"index\", bx = summary_EUR_exp[trial19$proxies], by = summary_EAS_out[trial19$proxies],\n",
        "      se_bx = rep(0.05, length(trial19$proxies)), se_by = rep(0.05, length(trial19$proxies)), ldlocus_EUR,\n",
        "      weak_filter = TRUE, weak_thresh = 2,\n",
        "      SVD = TRUE, SVD_thresh = \"eigen\")\n",
        "\n",
        "detach(trial19)"
      ],
      "metadata": {
        "colab": {
          "base_uri": "https://localhost:8080/",
          "height": 149
        },
        "id": "KJZXCyEhM_nV",
        "outputId": "ec6ff91e-ce44-439e-9483-1bab9f840635"
      },
      "execution_count": null,
      "outputs": [
        {
          "output_type": "display_data",
          "data": {
            "text/html": [
              "<dl>\n",
              "\t<dt>$Qstat</dt>\n",
              "\t\t<dd>284.493416289038</dd>\n",
              "\t<dt>$pval</dt>\n",
              "\t\t<dd>5.05574129927192e-56</dd>\n",
              "\t<dt>$df</dt>\n",
              "\t\t<dd>9</dd>\n",
              "</dl>\n"
            ],
            "text/markdown": "$Qstat\n:   284.493416289038\n$pval\n:   5.05574129927192e-56\n$df\n:   9\n\n\n",
            "text/latex": "\\begin{description}\n\\item[\\$Qstat] 284.493416289038\n\\item[\\$pval] 5.05574129927192e-56\n\\item[\\$df] 9\n\\end{description}\n",
            "text/plain": [
              "$Qstat\n",
              "[1] 284.4934\n",
              "\n",
              "$pval\n",
              "[1] 5.055741e-56\n",
              "\n",
              "$df\n",
              "[1] 9\n"
            ]
          },
          "metadata": {}
        }
      ]
    },
    {
      "cell_type": "markdown",
      "source": [
        "*The result is improved - and we once again see that EUR -> EAS shows much more heterogeneity than its EUR -> EUR counterpart.\n"
      ],
      "metadata": {
        "id": "ZAdIJGl_ZtAY"
      }
    },
    {
      "cell_type": "markdown",
      "metadata": {
        "id": "irV8Oe_gZQHm"
      },
      "source": [
        "## Simulation 3 - Trial 620: a situation where the eigenvalue-based pseudoinverse fails to resolve, but a threshold-based pseudoinverse fixes the problem"
      ]
    },
    {
      "cell_type": "markdown",
      "source": [
        "Load simulation data 620.RDS"
      ],
      "metadata": {
        "id": "Vp3ZpRBItbnS"
      }
    },
    {
      "cell_type": "code",
      "source": [
        "trial620 <- readRDS(file = \"620.RDS\")\n",
        "attach(trial620)"
      ],
      "metadata": {
        "id": "OGuyweVhtYmf"
      },
      "execution_count": null,
      "outputs": []
    },
    {
      "cell_type": "markdown",
      "source": [
        "Perform Qstat function between European and European dataset"
      ],
      "metadata": {
        "id": "hXVsBCIatfOc"
      }
    },
    {
      "cell_type": "code",
      "source": [
        "#EUR to EUR\n",
        "Qstat(center = \"index\", bx = summary_EUR_exp[proxies], by = summary_EUR_out[proxies],\n",
        "      se_bx = rep(0.05, length(proxies)), se_by = rep(0.05, length(proxies)), ldlocus_EUR,\n",
        "      weak_filter = TRUE, weak_thresh = 2,\n",
        "      SVD = FALSE, SVD_thresh = NA)"
      ],
      "metadata": {
        "colab": {
          "base_uri": "https://localhost:8080/",
          "height": 149
        },
        "id": "3e9oIBjHtYda",
        "outputId": "2680ebcb-5ded-4e3d-ab0f-79a72c04b04f"
      },
      "execution_count": null,
      "outputs": [
        {
          "output_type": "display_data",
          "data": {
            "text/html": [
              "<dl>\n",
              "\t<dt>$Qstat</dt>\n",
              "\t\t<dd>4.23069508679285</dd>\n",
              "\t<dt>$pval</dt>\n",
              "\t\t<dd>0.516702005872316</dd>\n",
              "\t<dt>$df</dt>\n",
              "\t\t<dd>5</dd>\n",
              "</dl>\n"
            ],
            "text/markdown": "$Qstat\n:   4.23069508679285\n$pval\n:   0.516702005872316\n$df\n:   5\n\n\n",
            "text/latex": "\\begin{description}\n\\item[\\$Qstat] 4.23069508679285\n\\item[\\$pval] 0.516702005872316\n\\item[\\$df] 5\n\\end{description}\n",
            "text/plain": [
              "$Qstat\n",
              "[1] 4.230695\n",
              "\n",
              "$pval\n",
              "[1] 0.516702\n",
              "\n",
              "$df\n",
              "[1] 5\n"
            ]
          },
          "metadata": {}
        }
      ]
    },
    {
      "cell_type": "markdown",
      "source": [
        "Perform Qstat function on summary statistics from the European and East Asian dataset"
      ],
      "metadata": {
        "id": "8nxf3iOytttd"
      }
    },
    {
      "cell_type": "code",
      "source": [
        "#EUR to EAS\n",
        "Qstat(center = \"index\", bx = summary_EUR_exp[proxies], by = summary_EAS_out[proxies],\n",
        "      se_bx = rep(0.05, length(proxies)), se_by = rep(0.05, length(proxies)), ldlocus_EUR,\n",
        "      weak_filter = TRUE, weak_thresh = 2,\n",
        "      SVD = FALSE, SVD_thresh = NA)"
      ],
      "metadata": {
        "colab": {
          "base_uri": "https://localhost:8080/",
          "height": 185
        },
        "id": "GJST4FYctsS4",
        "outputId": "bafe4684-6197-4d0a-e397-e9a310651283"
      },
      "execution_count": null,
      "outputs": [
        {
          "output_type": "stream",
          "name": "stderr",
          "text": [
            "Warning message in Qstat(center = \"index\", bx = summary_EUR_exp[proxies], by = summary_EAS_out[proxies], :\n",
            "“Q-statistic is less than zero, consider using the pseudoinverse!”\n"
          ]
        },
        {
          "output_type": "display_data",
          "data": {
            "text/html": [
              "<dl>\n",
              "\t<dt>$Qstat</dt>\n",
              "\t\t<dd>-140318.403950704</dd>\n",
              "\t<dt>$pval</dt>\n",
              "\t\t<dd>1</dd>\n",
              "\t<dt>$df</dt>\n",
              "\t\t<dd>5</dd>\n",
              "</dl>\n"
            ],
            "text/markdown": "$Qstat\n:   -140318.403950704\n$pval\n:   1\n$df\n:   5\n\n\n",
            "text/latex": "\\begin{description}\n\\item[\\$Qstat] -140318.403950704\n\\item[\\$pval] 1\n\\item[\\$df] 5\n\\end{description}\n",
            "text/plain": [
              "$Qstat\n",
              "[1] -140318.4\n",
              "\n",
              "$pval\n",
              "[1] 1\n",
              "\n",
              "$df\n",
              "[1] 5\n"
            ]
          },
          "metadata": {}
        }
      ]
    },
    {
      "cell_type": "markdown",
      "source": [
        "Once again, the EUR -> EAS result is extremely incorrect - let's try using the eigenvalue-based pseudoinverse.\n"
      ],
      "metadata": {
        "id": "Nc0Ry5bOt1bI"
      }
    },
    {
      "cell_type": "code",
      "source": [
        "#eigenvalue-based pseudoinverse\n",
        "Qstat(center = \"index\", bx = summary_EUR_exp[proxies], by = summary_EAS_out[proxies],\n",
        "      se_bx = rep(0.05, length(proxies)), se_by = rep(0.05, length(proxies)), ldlocus_EUR,\n",
        "      weak_filter = TRUE, weak_thresh = 2,\n",
        "      SVD = TRUE, SVD_thresh = \"eigen\")"
      ],
      "metadata": {
        "colab": {
          "base_uri": "https://localhost:8080/",
          "height": 149
        },
        "id": "sJxGwGEft7Bu",
        "outputId": "e43e01a5-7569-480b-f2fe-e8e4358ec8c6"
      },
      "execution_count": null,
      "outputs": [
        {
          "output_type": "display_data",
          "data": {
            "text/html": [
              "<dl>\n",
              "\t<dt>$Qstat</dt>\n",
              "\t\t<dd>-140318.403875164</dd>\n",
              "\t<dt>$pval</dt>\n",
              "\t\t<dd>1</dd>\n",
              "\t<dt>$df</dt>\n",
              "\t\t<dd>5</dd>\n",
              "</dl>\n"
            ],
            "text/markdown": "$Qstat\n:   -140318.403875164\n$pval\n:   1\n$df\n:   5\n\n\n",
            "text/latex": "\\begin{description}\n\\item[\\$Qstat] -140318.403875164\n\\item[\\$pval] 1\n\\item[\\$df] 5\n\\end{description}\n",
            "text/plain": [
              "$Qstat\n",
              "[1] -140318.4\n",
              "\n",
              "$pval\n",
              "[1] 1\n",
              "\n",
              "$df\n",
              "[1] 5\n"
            ]
          },
          "metadata": {}
        }
      ]
    },
    {
      "cell_type": "markdown",
      "source": [
        "*That did not fix the result - let's instead try applying the threshold-based pseudoinverse."
      ],
      "metadata": {
        "id": "TzIwVEksuFaR"
      }
    },
    {
      "cell_type": "code",
      "source": [
        "#threshold-based pseudoinverse\n",
        "Qstat(center = \"index\", bx = summary_EUR_exp[proxies], by = summary_EAS_out[proxies],\n",
        "      se_bx = rep(0.05, length(proxies)), se_by = rep(0.05, length(proxies)), ldlocus_EUR,\n",
        "      weak_filter = TRUE, weak_thresh = 2,\n",
        "      SVD = TRUE, SVD_thresh = 1e-4)\n",
        "detach(trial620)"
      ],
      "metadata": {
        "colab": {
          "base_uri": "https://localhost:8080/",
          "height": 149
        },
        "outputId": "80ce32e1-7ccf-4b26-80c9-18386b92c002",
        "id": "dHMrmnriSvwR"
      },
      "execution_count": null,
      "outputs": [
        {
          "output_type": "display_data",
          "data": {
            "text/html": [
              "<dl>\n",
              "\t<dt>$Qstat</dt>\n",
              "\t\t<dd>1.59117463988295</dd>\n",
              "\t<dt>$pval</dt>\n",
              "\t\t<dd>0.902314527361624</dd>\n",
              "\t<dt>$df</dt>\n",
              "\t\t<dd>5</dd>\n",
              "</dl>\n"
            ],
            "text/markdown": "$Qstat\n:   1.59117463988295\n$pval\n:   0.902314527361624\n$df\n:   5\n\n\n",
            "text/latex": "\\begin{description}\n\\item[\\$Qstat] 1.59117463988295\n\\item[\\$pval] 0.902314527361624\n\\item[\\$df] 5\n\\end{description}\n",
            "text/plain": [
              "$Qstat\n",
              "[1] 1.591175\n",
              "\n",
              "$pval\n",
              "[1] 0.9023145\n",
              "\n",
              "$df\n",
              "[1] 5\n"
            ]
          },
          "metadata": {}
        }
      ]
    },
    {
      "cell_type": "markdown",
      "source": [
        "*Now we see the results are stable once again - interestingly, we see that results from EUR -> EAS do not necessarily have to be more heterogeneous than EUR -> EUR:\n",
        "the amount of mismatch is certainly dependent on the location within the genome."
      ],
      "metadata": {
        "id": "B0mDV1qdaNk-"
      }
    },
    {
      "cell_type": "markdown",
      "metadata": {
        "id": "9Nb6XoGEaL4k"
      },
      "source": [
        "## Summary"
      ]
    },
    {
      "cell_type": "markdown",
      "source": [
        "\n",
        "\n",
        "In summary, a robust inverse for $\\Omega$ is often necessary for proper calculation of the score statistic. Importantly, there is no \"one-size fits all\" option for this robust inverse: in practice, we find that while the eigenvalue-based pseudoinverse works as a general initial choice for most situations where the result is unstable, occasionally manual tweaking is necessary to get a good result.\n",
        "\n",
        "Overall, we recommend trying multiple (plausible) parameters for these methods to ensure that conclusions from using one set of parameters remain consistent across multiple methods."
      ],
      "metadata": {
        "id": "3pXlitDPZ_A6"
      }
    }
  ]
}